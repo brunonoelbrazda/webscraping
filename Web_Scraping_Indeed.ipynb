{
 "cells": [
  {
   "cell_type": "code",
   "execution_count": 1,
   "id": "e0775338",
   "metadata": {},
   "outputs": [],
   "source": [
    "import requests\n",
    "import bs4\n",
    "import pandas as pd\n",
    "import numpy as np\n",
    "from bs4 import BeautifulSoup\n",
    "import requests\n",
    "from tqdm import tqdm"
   ]
  },
  {
   "cell_type": "markdown",
   "id": "092172e9",
   "metadata": {},
   "source": [
    "The extract_results function takes a pagenumber and city name as input, and returns a \"soup\" of HTML from the corresponding page. This function will be reused throughout the project. In order to collect location, company name, salary, and job title, I created functions that extract each piece of information from the HTML.  "
   ]
  },
  {
   "cell_type": "code",
   "execution_count": 6,
   "id": "5f07f902",
   "metadata": {},
   "outputs": [],
   "source": [
    "def extract_results(page,city):\n",
    "    url = f'http://www.indeed.com/jobs?q=data+scientist+%2420%2C000&l={city}&start={page}'\n",
    "    r = requests.get(url)\n",
    "    soup = BeautifulSoup(r.content, 'html.parser')\n",
    "    return soup"
   ]
  },
  {
   "cell_type": "markdown",
   "id": "12124f42",
   "metadata": {},
   "source": [
    "The company function extracts the name of the company of the job posting, and appends it to a list."
   ]
  },
  {
   "cell_type": "code",
   "execution_count": 7,
   "id": "df0218db",
   "metadata": {},
   "outputs": [
    {
     "name": "stdout",
     "output_type": "stream",
     "text": [
      "['Signature Science, LLC', 'eBay Inc.', 'Arrive Logistics', 'Dell Technologies', 'Frontdoor', 'National Instruments', 'Facebook App', 'S&P Global', 'Xylem', 'KWx', 'Deloitte', 'IBM', 'Silicon Valley Bank', 'Salesforce', 'Deloitte']\n"
     ]
    }
   ],
   "source": [
    "comp_list = []\n",
    "\n",
    "def company(soup):\n",
    "    divs = soup.find_all('div',class_='job_seen_beacon')\n",
    "    for div in divs:\n",
    "        try:\n",
    "            comp_list.append(div.find('span',class_='companyName').text)\n",
    "        except:\n",
    "            comp_list.append(np.nan)\n",
    "    return print(comp_list)\n",
    "\n",
    "j = extract_results(10,\"Austin\")\n",
    "\n",
    "company(j)"
   ]
  },
  {
   "cell_type": "markdown",
   "id": "b6a25c33",
   "metadata": {},
   "source": [
    "Getting Location"
   ]
  },
  {
   "cell_type": "code",
   "execution_count": 8,
   "id": "83dff1f6",
   "metadata": {},
   "outputs": [
    {
     "data": {
      "text/plain": [
       "['Austin, TX',\n",
       " 'Austin, TX 78759 (North Shoal Creek area)',\n",
       " 'Remote in Austin, TX+2 locations',\n",
       " 'Hybrid remote in Austin, TX',\n",
       " 'Austin, TX 73301 (St Edwards area)+2 locations',\n",
       " 'Austin, TX+9 locations',\n",
       " 'Remote in Austin, TX',\n",
       " 'Austin, TX',\n",
       " 'Austin, TX+1 location',\n",
       " 'Austin, TX 73301 (St Edwards area)',\n",
       " 'Austin, TX 78745',\n",
       " 'Austin, TX',\n",
       " 'Austin, TX+4 locations',\n",
       " 'Austin, TX',\n",
       " 'Austin, TX+1 location']"
      ]
     },
     "execution_count": 8,
     "metadata": {},
     "output_type": "execute_result"
    }
   ],
   "source": [
    "loc_list = []\n",
    "\n",
    "def location(soup):\n",
    "    divs = soup.find_all('div',class_='job_seen_beacon')\n",
    "    for div in divs:\n",
    "        try:\n",
    "            loc_list.append(div.find('div',class_='companyLocation').text)\n",
    "        except:\n",
    "            loc_list.append(np.nan)\n",
    "    return loc_list\n",
    "\n",
    "j = extract_results(10,\"Austin\")\n",
    "\n",
    "location(j)"
   ]
  },
  {
   "cell_type": "markdown",
   "id": "450cf312",
   "metadata": {},
   "source": [
    "Getting Job Titles"
   ]
  },
  {
   "cell_type": "code",
   "execution_count": 9,
   "id": "8943fc34",
   "metadata": {},
   "outputs": [
    {
     "data": {
      "text/plain": [
       "['Senior Data Scientist',\n",
       " 'Bioinformatics Data Scientist',\n",
       " 'Data Scientist',\n",
       " 'Data Scientist',\n",
       " 'Data Scientist, Watson Health',\n",
       " 'newData Science Advisor',\n",
       " 'Data Scientist (100% Remote)',\n",
       " 'Data Scientist',\n",
       " 'Lead Data Scientist',\n",
       " 'Senior Data Scientist',\n",
       " 'Data Scientist- KWRI',\n",
       " 'Senior Data Scientist Alteryx',\n",
       " 'Data Scientist',\n",
       " 'Product Analyst/Data Scientist',\n",
       " 'newJunior Data Engineer']"
      ]
     },
     "execution_count": 9,
     "metadata": {},
     "output_type": "execute_result"
    }
   ],
   "source": [
    "job_list= []\n",
    "\n",
    "def job(soup):\n",
    "    divs = soup.find_all('div',class_='job_seen_beacon')\n",
    "    for div in divs:\n",
    "        try:\n",
    "            job_list.append(div.find('h2').text)\n",
    "        except:\n",
    "            job_list.append(np.nan)\n",
    "\n",
    "    return job_list\n",
    "\n",
    "j = extract_results(10,\"Austin\")\n",
    "\n",
    "job(j)"
   ]
  },
  {
   "cell_type": "markdown",
   "id": "93f436f3",
   "metadata": {},
   "source": [
    "Getting Salary - The majority of job postings had no salary information available"
   ]
  },
  {
   "cell_type": "code",
   "execution_count": 10,
   "id": "4508c2b8",
   "metadata": {},
   "outputs": [
    {
     "data": {
      "text/plain": [
       "['No Salary Info',\n",
       " 'No Salary Info',\n",
       " 'No Salary Info',\n",
       " 'No Salary Info',\n",
       " 'No Salary Info',\n",
       " 'No Salary Info',\n",
       " 'No Salary Info',\n",
       " 'No Salary Info',\n",
       " '$74 an hour',\n",
       " '$127,600 a year',\n",
       " 'No Salary Info',\n",
       " 'No Salary Info',\n",
       " 'No Salary Info',\n",
       " '$82,400 a year',\n",
       " 'No Salary Info']"
      ]
     },
     "execution_count": 10,
     "metadata": {},
     "output_type": "execute_result"
    }
   ],
   "source": [
    "salary_list= []\n",
    "\n",
    "def salary(soup):\n",
    "    divs = soup.find_all('div',class_='job_seen_beacon')\n",
    "    for div in divs:\n",
    "        try:\n",
    "            salary_list.append(div.find('div',class_='metadata salary-snippet-container').text)\n",
    "        except:\n",
    "            salary_list.append(\"No Salary Info\")\n",
    "            \n",
    "    return salary_list\n",
    "\n",
    "j = extract_results(10,\"Austin\")\n",
    "\n",
    "salary(j)"
   ]
  },
  {
   "cell_type": "markdown",
   "id": "0e6aaa9f",
   "metadata": {},
   "source": [
    "I can then combine the 4 lists into a dataframe. This example is the first page in Austin."
   ]
  },
  {
   "cell_type": "code",
   "execution_count": 11,
   "id": "f563abef",
   "metadata": {},
   "outputs": [
    {
     "data": {
      "text/html": [
       "<div>\n",
       "<style scoped>\n",
       "    .dataframe tbody tr th:only-of-type {\n",
       "        vertical-align: middle;\n",
       "    }\n",
       "\n",
       "    .dataframe tbody tr th {\n",
       "        vertical-align: top;\n",
       "    }\n",
       "\n",
       "    .dataframe thead th {\n",
       "        text-align: right;\n",
       "    }\n",
       "</style>\n",
       "<table border=\"1\" class=\"dataframe\">\n",
       "  <thead>\n",
       "    <tr style=\"text-align: right;\">\n",
       "      <th></th>\n",
       "      <th>Company</th>\n",
       "      <th>Title</th>\n",
       "      <th>Location</th>\n",
       "      <th>Salary</th>\n",
       "    </tr>\n",
       "  </thead>\n",
       "  <tbody>\n",
       "    <tr>\n",
       "      <th>0</th>\n",
       "      <td>Signature Science, LLC</td>\n",
       "      <td>Senior Data Scientist</td>\n",
       "      <td>Austin, TX</td>\n",
       "      <td>No Salary Info</td>\n",
       "    </tr>\n",
       "    <tr>\n",
       "      <th>1</th>\n",
       "      <td>eBay Inc.</td>\n",
       "      <td>Bioinformatics Data Scientist</td>\n",
       "      <td>Austin, TX 78759 (North Shoal Creek area)</td>\n",
       "      <td>No Salary Info</td>\n",
       "    </tr>\n",
       "    <tr>\n",
       "      <th>2</th>\n",
       "      <td>Arrive Logistics</td>\n",
       "      <td>Data Scientist</td>\n",
       "      <td>Remote in Austin, TX+2 locations</td>\n",
       "      <td>No Salary Info</td>\n",
       "    </tr>\n",
       "    <tr>\n",
       "      <th>3</th>\n",
       "      <td>Dell Technologies</td>\n",
       "      <td>Data Scientist</td>\n",
       "      <td>Hybrid remote in Austin, TX</td>\n",
       "      <td>No Salary Info</td>\n",
       "    </tr>\n",
       "    <tr>\n",
       "      <th>4</th>\n",
       "      <td>Frontdoor</td>\n",
       "      <td>Data Scientist, Watson Health</td>\n",
       "      <td>Austin, TX 73301 (St Edwards area)+2 locations</td>\n",
       "      <td>No Salary Info</td>\n",
       "    </tr>\n",
       "  </tbody>\n",
       "</table>\n",
       "</div>"
      ],
      "text/plain": [
       "                  Company                          Title  \\\n",
       "0  Signature Science, LLC          Senior Data Scientist   \n",
       "1               eBay Inc.  Bioinformatics Data Scientist   \n",
       "2        Arrive Logistics                 Data Scientist   \n",
       "3       Dell Technologies                 Data Scientist   \n",
       "4               Frontdoor  Data Scientist, Watson Health   \n",
       "\n",
       "                                         Location          Salary  \n",
       "0                                      Austin, TX  No Salary Info  \n",
       "1       Austin, TX 78759 (North Shoal Creek area)  No Salary Info  \n",
       "2                Remote in Austin, TX+2 locations  No Salary Info  \n",
       "3                     Hybrid remote in Austin, TX  No Salary Info  \n",
       "4  Austin, TX 73301 (St Edwards area)+2 locations  No Salary Info  "
      ]
     },
     "execution_count": 11,
     "metadata": {},
     "output_type": "execute_result"
    }
   ],
   "source": [
    "df = pd.DataFrame({'Company': comp_list,\n",
    "                     'Title': job_list,\n",
    "                     'Location': loc_list,\n",
    "                     'Salary': salary_list})\n",
    "df.head()"
   ]
  },
  {
   "cell_type": "markdown",
   "id": "2f26e724",
   "metadata": {},
   "source": [
    "This can be scaled up by iterating over a list of cities and page numbers to collect jobs from different cities across the United States"
   ]
  },
  {
   "cell_type": "code",
   "execution_count": null,
   "id": "571967b0",
   "metadata": {},
   "outputs": [],
   "source": [
    "placeholder = extract_results(10,\"Chicago\")\n",
    "\n",
    "comp_list = []\n",
    "loc_list= []\n",
    "salary_list = []\n",
    "job_list = []\n",
    "\n",
    "cities = ['New+York', 'Chicago', 'San+Francisco','Austin','Seattle','San+Diego'\n",
    "          'Los+Angeles', 'Philadelphia', 'Atlanta', 'Dallas','Houston','Baltimore','Denver',\n",
    "         'Miami','Portland','Phoenix','Las+Vegas','Boston','Charlotte','Indianapolis','Nashville','Washington']\n",
    "pages = [10,20,30,40,50,60,70,80,90,100,110,120,130,140,150,160,170]\n",
    "\n",
    "for city in cities:\n",
    "    for page in pages:\n",
    "        c = extract_results(page,city)\n",
    "        placeholder.body.append(c)"
   ]
  },
  {
   "cell_type": "markdown",
   "id": "ff45eeb5",
   "metadata": {},
   "source": [
    "After dropping duplicates, I ended up with information on about 7000 jobs. Since I was only interested in jobs with salary information, I dropped all jobs that didn't contain a salary. This left me with 300 job postings."
   ]
  },
  {
   "cell_type": "code",
   "execution_count": 22,
   "id": "a7f57574",
   "metadata": {},
   "outputs": [],
   "source": [
    "df = pd.read_csv(\"out.csv\",low_memory=False)"
   ]
  },
  {
   "cell_type": "code",
   "execution_count": 23,
   "id": "0d2e8c1d",
   "metadata": {},
   "outputs": [
    {
     "data": {
      "text/html": [
       "<div>\n",
       "<style scoped>\n",
       "    .dataframe tbody tr th:only-of-type {\n",
       "        vertical-align: middle;\n",
       "    }\n",
       "\n",
       "    .dataframe tbody tr th {\n",
       "        vertical-align: top;\n",
       "    }\n",
       "\n",
       "    .dataframe thead th {\n",
       "        text-align: right;\n",
       "    }\n",
       "</style>\n",
       "<table border=\"1\" class=\"dataframe\">\n",
       "  <thead>\n",
       "    <tr style=\"text-align: right;\">\n",
       "      <th></th>\n",
       "      <th>Company</th>\n",
       "      <th>Title</th>\n",
       "      <th>Location</th>\n",
       "      <th>Salary</th>\n",
       "    </tr>\n",
       "  </thead>\n",
       "  <tbody>\n",
       "    <tr>\n",
       "      <th>0</th>\n",
       "      <td>Salesforce</td>\n",
       "      <td>Applied Scientist</td>\n",
       "      <td>Chicago, IL 60654 (River North area)</td>\n",
       "      <td>$82,400 a year</td>\n",
       "    </tr>\n",
       "    <tr>\n",
       "      <th>1</th>\n",
       "      <td>InspiHER Tech</td>\n",
       "      <td>DATA SCIENTIST</td>\n",
       "      <td>Chicago, IL</td>\n",
       "      <td>$75,000 - $100,000 a year</td>\n",
       "    </tr>\n",
       "    <tr>\n",
       "      <th>2</th>\n",
       "      <td>Lightyear Health</td>\n",
       "      <td>Data Scientist</td>\n",
       "      <td>New York State•Remote</td>\n",
       "      <td>$90,000 - $110,000 a year</td>\n",
       "    </tr>\n",
       "    <tr>\n",
       "      <th>3</th>\n",
       "      <td>CKM Analytix</td>\n",
       "      <td>Senior Data Scientist</td>\n",
       "      <td>New York, NY 10018 (Garment District area)•Tem...</td>\n",
       "      <td>$100,000 - $180,000 a year</td>\n",
       "    </tr>\n",
       "    <tr>\n",
       "      <th>4</th>\n",
       "      <td>NYC Careers</td>\n",
       "      <td>ASSOCIATE DATA SCIENTIST</td>\n",
       "      <td>Manhattan, NY</td>\n",
       "      <td>$71,707 - $82,463 a year</td>\n",
       "    </tr>\n",
       "  </tbody>\n",
       "</table>\n",
       "</div>"
      ],
      "text/plain": [
       "            Company                     Title  \\\n",
       "0        Salesforce         Applied Scientist   \n",
       "1     InspiHER Tech            DATA SCIENTIST   \n",
       "2  Lightyear Health            Data Scientist   \n",
       "3      CKM Analytix     Senior Data Scientist   \n",
       "4       NYC Careers  ASSOCIATE DATA SCIENTIST   \n",
       "\n",
       "                                            Location  \\\n",
       "0               Chicago, IL 60654 (River North area)   \n",
       "1                                        Chicago, IL   \n",
       "2                              New York State•Remote   \n",
       "3  New York, NY 10018 (Garment District area)•Tem...   \n",
       "4                                      Manhattan, NY   \n",
       "\n",
       "                       Salary  \n",
       "0              $82,400 a year  \n",
       "1   $75,000 - $100,000 a year  \n",
       "2   $90,000 - $110,000 a year  \n",
       "3  $100,000 - $180,000 a year  \n",
       "4    $71,707 - $82,463 a year  "
      ]
     },
     "execution_count": 23,
     "metadata": {},
     "output_type": "execute_result"
    }
   ],
   "source": [
    "df.head()"
   ]
  },
  {
   "cell_type": "markdown",
   "id": "cda98fe6",
   "metadata": {},
   "source": [
    "The data needed to be cleaned for modelling"
   ]
  },
  {
   "cell_type": "code",
   "execution_count": 24,
   "id": "153963af",
   "metadata": {},
   "outputs": [
    {
     "name": "stderr",
     "output_type": "stream",
     "text": [
      "/var/folders/k8/t2sgh_ls3y7dl79tkl6792lm0000gn/T/ipykernel_759/376332570.py:4: FutureWarning: The default value of regex will change from True to False in a future version. In addition, single character regular expressions will *not* be treated as literal strings when regex=True.\n",
      "  df['Salary'] = df['Salary'].str.replace('$', '')\n"
     ]
    },
    {
     "data": {
      "text/plain": [
       "0              82400\n",
       "1     75000 - 100000\n",
       "2     90000 - 110000\n",
       "3    100000 - 180000\n",
       "Name: Salary, dtype: object"
      ]
     },
     "execution_count": 24,
     "metadata": {},
     "output_type": "execute_result"
    }
   ],
   "source": [
    "# using lambda function to remove the dollar symbols, and the words \"from\" and \"up to\"\n",
    "df['Salary'] = df['Salary'].map(lambda x: x.lstrip('$').rstrip('a year'))\n",
    "\n",
    "df['Salary'] = df['Salary'].str.replace('$', '')\n",
    "df['Salary'] = df['Salary'].str.replace(',', '')\n",
    "df['Salary'] = df['Salary'].str.replace('From', '')\n",
    "df['Salary'] = df['Salary'].str.replace('Up to', '')\n",
    "\n",
    "df.Salary.head(8)"
   ]
  },
  {
   "cell_type": "code",
   "execution_count": 25,
   "id": "3d4649d3",
   "metadata": {},
   "outputs": [],
   "source": [
    "# Function that splits the salaries on a -, and returns\n",
    "# the mean of the two numbers.\n",
    "def salary_fixer(x):\n",
    "    if '-' in x:\n",
    "        a,b = x.split('-', 1)\n",
    "        return (int(a)+int(b))/2\n",
    "    else:\n",
    "        return x"
   ]
  },
  {
   "cell_type": "code",
   "execution_count": 26,
   "id": "8ddf83e3",
   "metadata": {},
   "outputs": [
    {
     "data": {
      "text/plain": [
       "115270.19928825623"
      ]
     },
     "execution_count": 26,
     "metadata": {},
     "output_type": "execute_result"
    }
   ],
   "source": [
    "df['Salary'] = df['Salary'].apply(salary_fixer)\n",
    "df['Salary'] = df.Salary.astype('int64')\n",
    "df.Salary.mean()"
   ]
  },
  {
   "cell_type": "code",
   "execution_count": 27,
   "id": "5f3177ea",
   "metadata": {},
   "outputs": [
    {
     "data": {
      "text/plain": [
       "0     82400\n",
       "1     87500\n",
       "2    100000\n",
       "3    140000\n",
       "4     77085\n",
       "5    147500\n",
       "6     85132\n",
       "7     85132\n",
       "Name: Salary, dtype: int64"
      ]
     },
     "execution_count": 27,
     "metadata": {},
     "output_type": "execute_result"
    }
   ],
   "source": [
    "df.Salary.head(8)"
   ]
  },
  {
   "cell_type": "markdown",
   "id": "bc18a023",
   "metadata": {},
   "source": [
    "The clean dataframe was then saved to a csv."
   ]
  },
  {
   "cell_type": "code",
   "execution_count": 2,
   "id": "0880579e",
   "metadata": {},
   "outputs": [],
   "source": [
    "salaries = pd.read_csv(\"clean_salaries.csv\")"
   ]
  },
  {
   "cell_type": "code",
   "execution_count": 3,
   "id": "702655f3",
   "metadata": {},
   "outputs": [
    {
     "data": {
      "text/plain": [
       "115000.0"
      ]
     },
     "execution_count": 3,
     "metadata": {},
     "output_type": "execute_result"
    }
   ],
   "source": [
    "salaries['Salary'].median()"
   ]
  },
  {
   "cell_type": "markdown",
   "id": "367c085c",
   "metadata": {},
   "source": [
    "In order to classify salaries as being either High, or Low, A new coloumn is created which will serve as the target variable when modelling."
   ]
  },
  {
   "cell_type": "code",
   "execution_count": 4,
   "id": "d9284121",
   "metadata": {},
   "outputs": [],
   "source": [
    "salaries['binary'] = salaries['Salary']"
   ]
  },
  {
   "cell_type": "code",
   "execution_count": 5,
   "id": "827dbe47",
   "metadata": {},
   "outputs": [],
   "source": [
    "# 1 if above the median (115,000 usd), 0 if below.\n",
    "def binary_extractor(x):\n",
    "    if x>salaries.Salary.median():\n",
    "        return 1\n",
    "    else: \n",
    "        return 0\n",
    "salaries['binary'] = salaries['binary'].apply(binary_extractor)"
   ]
  },
  {
   "cell_type": "code",
   "execution_count": 6,
   "id": "605839e9",
   "metadata": {},
   "outputs": [
    {
     "data": {
      "text/plain": [
       "0    0.508897\n",
       "1    0.491103\n",
       "Name: binary, dtype: float64"
      ]
     },
     "execution_count": 6,
     "metadata": {},
     "output_type": "execute_result"
    }
   ],
   "source": [
    "# this will be the baseline accuracy of our model, \n",
    "# which is naturally about 50% since we took the median\n",
    "salaries.binary.value_counts(normalize=True)"
   ]
  },
  {
   "cell_type": "code",
   "execution_count": 7,
   "id": "48e38838",
   "metadata": {},
   "outputs": [],
   "source": [
    "# Cleaning the location feature, organizing it by state.\n",
    "def location_cleaner(x):\n",
    "    if 'Maryland' in x:\n",
    "        return 'MD'\n",
    "    if 'Texas' in x:\n",
    "        return 'TX'\n",
    "    if 'Washington' in x:\n",
    "        return 'WA'\n",
    "    if 'OR' in x:\n",
    "        return 'OR'\n",
    "    if 'NY' in x:\n",
    "        return 'NY'\n",
    "    if 'New York' in x:\n",
    "        return 'NY'\n",
    "    if 'IL' in x:\n",
    "        return 'IL'\n",
    "    if 'CO' in x:\n",
    "        return 'CO'\n",
    "    if 'MI' in x:\n",
    "        return 'MI'\n",
    "    if 'TX' in x:\n",
    "        return 'TX'\n",
    "    if 'CA' in x:\n",
    "        return 'CA'\n",
    "    if 'GA' in x:\n",
    "        return 'GA'\n",
    "    if 'FL' in x:\n",
    "        return 'FL'\n",
    "    if 'PA' in x:\n",
    "        return 'PA'\n",
    "    if 'UT' in x:\n",
    "        return 'UT'\n",
    "    if 'MA' in x:\n",
    "        return 'MA'\n",
    "    if 'WA' in x:\n",
    "        return 'WA'\n",
    "    if 'MD' in x:\n",
    "        return 'MD'\n",
    "    if 'AZ' in x:\n",
    "        return 'AZ'\n",
    "    if 'MO' in x:\n",
    "        return 'MO'\n",
    "    if 'NC' in x:\n",
    "        return 'NC'\n",
    "    if 'TN' in x:\n",
    "        return 'TN'\n",
    "    if 'IN' in x:\n",
    "        return 'IN'\n",
    "    if 'OK' in x:\n",
    "        return 'OK'\n",
    "    if 'DE' in x:\n",
    "        return 'DE'\n",
    "    if 'OH' in x:\n",
    "        return 'OH'\n",
    "    if 'Colorado' in x:\n",
    "        return 'CO'\n",
    "    if 'United States' in x:\n",
    "        return 'Remote'\n",
    "    else:\n",
    "        return x\n",
    "\n",
    "salaries['Location'] = salaries['Location'].apply(location_cleaner)"
   ]
  },
  {
   "cell_type": "code",
   "execution_count": 8,
   "id": "dd9faf5a",
   "metadata": {},
   "outputs": [
    {
     "data": {
      "text/html": [
       "<div>\n",
       "<style scoped>\n",
       "    .dataframe tbody tr th:only-of-type {\n",
       "        vertical-align: middle;\n",
       "    }\n",
       "\n",
       "    .dataframe tbody tr th {\n",
       "        vertical-align: top;\n",
       "    }\n",
       "\n",
       "    .dataframe thead th {\n",
       "        text-align: right;\n",
       "    }\n",
       "</style>\n",
       "<table border=\"1\" class=\"dataframe\">\n",
       "  <thead>\n",
       "    <tr style=\"text-align: right;\">\n",
       "      <th></th>\n",
       "      <th>Company</th>\n",
       "      <th>Title</th>\n",
       "      <th>Location</th>\n",
       "      <th>Salary</th>\n",
       "      <th>binary</th>\n",
       "    </tr>\n",
       "  </thead>\n",
       "  <tbody>\n",
       "    <tr>\n",
       "      <th>0</th>\n",
       "      <td>Salesforce</td>\n",
       "      <td>Applied Scientist</td>\n",
       "      <td>IL</td>\n",
       "      <td>82400</td>\n",
       "      <td>0</td>\n",
       "    </tr>\n",
       "    <tr>\n",
       "      <th>1</th>\n",
       "      <td>InspiHER Tech</td>\n",
       "      <td>DATA SCIENTIST</td>\n",
       "      <td>IL</td>\n",
       "      <td>87500</td>\n",
       "      <td>0</td>\n",
       "    </tr>\n",
       "    <tr>\n",
       "      <th>2</th>\n",
       "      <td>Lightyear Health</td>\n",
       "      <td>Data Scientist</td>\n",
       "      <td>NY</td>\n",
       "      <td>100000</td>\n",
       "      <td>0</td>\n",
       "    </tr>\n",
       "    <tr>\n",
       "      <th>3</th>\n",
       "      <td>CKM Analytix</td>\n",
       "      <td>Senior Data Scientist</td>\n",
       "      <td>NY</td>\n",
       "      <td>140000</td>\n",
       "      <td>1</td>\n",
       "    </tr>\n",
       "    <tr>\n",
       "      <th>4</th>\n",
       "      <td>NYC Careers</td>\n",
       "      <td>ASSOCIATE DATA SCIENTIST</td>\n",
       "      <td>NY</td>\n",
       "      <td>77085</td>\n",
       "      <td>0</td>\n",
       "    </tr>\n",
       "    <tr>\n",
       "      <th>...</th>\n",
       "      <td>...</td>\n",
       "      <td>...</td>\n",
       "      <td>...</td>\n",
       "      <td>...</td>\n",
       "      <td>...</td>\n",
       "    </tr>\n",
       "    <tr>\n",
       "      <th>276</th>\n",
       "      <td>Amazon.com Services LLC</td>\n",
       "      <td>Machine Learning Engineer II</td>\n",
       "      <td>CO</td>\n",
       "      <td>120700</td>\n",
       "      <td>1</td>\n",
       "    </tr>\n",
       "    <tr>\n",
       "      <th>277</th>\n",
       "      <td>Stefanini, Inc</td>\n",
       "      <td>newMachine Learning (ML)</td>\n",
       "      <td>MI</td>\n",
       "      <td>140000</td>\n",
       "      <td>1</td>\n",
       "    </tr>\n",
       "    <tr>\n",
       "      <th>278</th>\n",
       "      <td>aThingz Inc.</td>\n",
       "      <td>Senior Data Scientist</td>\n",
       "      <td>MI</td>\n",
       "      <td>90000</td>\n",
       "      <td>0</td>\n",
       "    </tr>\n",
       "    <tr>\n",
       "      <th>279</th>\n",
       "      <td>Boys &amp; Girls Clubs of Southeastern Michigan</td>\n",
       "      <td>Fall 2021 Data Science Industry Club Fellowship</td>\n",
       "      <td>MI</td>\n",
       "      <td>116100</td>\n",
       "      <td>1</td>\n",
       "    </tr>\n",
       "    <tr>\n",
       "      <th>280</th>\n",
       "      <td>PepsiCo</td>\n",
       "      <td>Statistical Programmer (SAS)</td>\n",
       "      <td>MI</td>\n",
       "      <td>95400</td>\n",
       "      <td>0</td>\n",
       "    </tr>\n",
       "  </tbody>\n",
       "</table>\n",
       "<p>281 rows × 5 columns</p>\n",
       "</div>"
      ],
      "text/plain": [
       "                                         Company  \\\n",
       "0                                     Salesforce   \n",
       "1                                  InspiHER Tech   \n",
       "2                               Lightyear Health   \n",
       "3                                   CKM Analytix   \n",
       "4                                    NYC Careers   \n",
       "..                                           ...   \n",
       "276                      Amazon.com Services LLC   \n",
       "277                               Stefanini, Inc   \n",
       "278                                 aThingz Inc.   \n",
       "279  Boys & Girls Clubs of Southeastern Michigan   \n",
       "280                                      PepsiCo   \n",
       "\n",
       "                                               Title Location  Salary  binary  \n",
       "0                                  Applied Scientist       IL   82400       0  \n",
       "1                                     DATA SCIENTIST       IL   87500       0  \n",
       "2                                     Data Scientist       NY  100000       0  \n",
       "3                              Senior Data Scientist       NY  140000       1  \n",
       "4                           ASSOCIATE DATA SCIENTIST       NY   77085       0  \n",
       "..                                               ...      ...     ...     ...  \n",
       "276                     Machine Learning Engineer II       CO  120700       1  \n",
       "277                         newMachine Learning (ML)       MI  140000       1  \n",
       "278                            Senior Data Scientist       MI   90000       0  \n",
       "279  Fall 2021 Data Science Industry Club Fellowship       MI  116100       1  \n",
       "280                     Statistical Programmer (SAS)       MI   95400       0  \n",
       "\n",
       "[281 rows x 5 columns]"
      ]
     },
     "execution_count": 8,
     "metadata": {},
     "output_type": "execute_result"
    }
   ],
   "source": [
    "salaries"
   ]
  },
  {
   "cell_type": "code",
   "execution_count": 20,
   "id": "2849767c",
   "metadata": {},
   "outputs": [
    {
     "data": {
      "image/png": "[encoded data removed]",
      "text/plain": [
       "<Figure size 432x288 with 1 Axes>"
      ]
     },
     "metadata": {
      "needs_background": "light"
     },
     "output_type": "display_data"
    }
   ],
   "source": [
    "#distribution of salaries\n",
    "ax = salaries['Salary'].plot.hist(bins=12, alpha=0.5)"
   ]
  },
  {
   "cell_type": "markdown",
   "id": "fdeffa97",
   "metadata": {},
   "source": [
    "Using NLP, I investigated what effect words in the job title have on salary."
   ]
  },
  {
   "cell_type": "code",
   "execution_count": 11,
   "id": "39b65f7b",
   "metadata": {},
   "outputs": [],
   "source": [
    "from sklearn.feature_extraction.text import CountVectorizer\n",
    "import re"
   ]
  },
  {
   "cell_type": "code",
   "execution_count": 12,
   "id": "813c11f8",
   "metadata": {},
   "outputs": [],
   "source": [
    "def preprocess_text(text):\n",
    "    text = text.lower()\n",
    "    text = re.sub(r'\\d+', '', text)\n",
    "    return text\n",
    "\n",
    "cvec = CountVectorizer(preprocessor=preprocess_text,max_features=20,stop_words=\"english\")\n",
    "    \n",
    "text = salaries['Title'].tolist()\n",
    "\n",
    "cvec.fit(text)\n",
    "\n",
    "document_matrix = cvec.transform(text)"
   ]
  },
  {
   "cell_type": "markdown",
   "id": "d396b389",
   "metadata": {},
   "source": [
    "By converting the sparse matrix into an array, and using a dataframe to visualize it, we can see how frequently the 20 most common words appear in the job postings. We can use this dataframe as input into a model that predicts weather a salary is high or low."
   ]
  },
  {
   "cell_type": "code",
   "execution_count": 14,
   "id": "881b546a",
   "metadata": {},
   "outputs": [
    {
     "data": {
      "text/html": [
       "<div>\n",
       "<style scoped>\n",
       "    .dataframe tbody tr th:only-of-type {\n",
       "        vertical-align: middle;\n",
       "    }\n",
       "\n",
       "    .dataframe tbody tr th {\n",
       "        vertical-align: top;\n",
       "    }\n",
       "\n",
       "    .dataframe thead th {\n",
       "        text-align: right;\n",
       "    }\n",
       "</style>\n",
       "<table border=\"1\" class=\"dataframe\">\n",
       "  <thead>\n",
       "    <tr style=\"text-align: right;\">\n",
       "      <th></th>\n",
       "      <th>scientist</th>\n",
       "      <th>ai</th>\n",
       "      <th>analyst</th>\n",
       "      <th>sr</th>\n",
       "      <th>software</th>\n",
       "      <th>senior</th>\n",
       "      <th>science</th>\n",
       "      <th>research</th>\n",
       "      <th>opportunities</th>\n",
       "      <th>newsenior</th>\n",
       "      <th>nationwide</th>\n",
       "      <th>ml</th>\n",
       "      <th>manager</th>\n",
       "      <th>machine</th>\n",
       "      <th>learning</th>\n",
       "      <th>lead</th>\n",
       "      <th>ii</th>\n",
       "      <th>engineer</th>\n",
       "      <th>data</th>\n",
       "      <th>statistician</th>\n",
       "    </tr>\n",
       "  </thead>\n",
       "  <tbody>\n",
       "    <tr>\n",
       "      <th>0</th>\n",
       "      <td>1</td>\n",
       "      <td>0</td>\n",
       "      <td>0</td>\n",
       "      <td>0</td>\n",
       "      <td>0</td>\n",
       "      <td>0</td>\n",
       "      <td>0</td>\n",
       "      <td>0</td>\n",
       "      <td>0</td>\n",
       "      <td>0</td>\n",
       "      <td>0</td>\n",
       "      <td>0</td>\n",
       "      <td>0</td>\n",
       "      <td>0</td>\n",
       "      <td>0</td>\n",
       "      <td>0</td>\n",
       "      <td>0</td>\n",
       "      <td>0</td>\n",
       "      <td>0</td>\n",
       "      <td>0</td>\n",
       "    </tr>\n",
       "    <tr>\n",
       "      <th>1</th>\n",
       "      <td>1</td>\n",
       "      <td>0</td>\n",
       "      <td>0</td>\n",
       "      <td>0</td>\n",
       "      <td>0</td>\n",
       "      <td>0</td>\n",
       "      <td>0</td>\n",
       "      <td>0</td>\n",
       "      <td>0</td>\n",
       "      <td>0</td>\n",
       "      <td>0</td>\n",
       "      <td>0</td>\n",
       "      <td>0</td>\n",
       "      <td>0</td>\n",
       "      <td>0</td>\n",
       "      <td>0</td>\n",
       "      <td>0</td>\n",
       "      <td>0</td>\n",
       "      <td>1</td>\n",
       "      <td>0</td>\n",
       "    </tr>\n",
       "    <tr>\n",
       "      <th>2</th>\n",
       "      <td>1</td>\n",
       "      <td>0</td>\n",
       "      <td>0</td>\n",
       "      <td>0</td>\n",
       "      <td>0</td>\n",
       "      <td>0</td>\n",
       "      <td>0</td>\n",
       "      <td>0</td>\n",
       "      <td>0</td>\n",
       "      <td>0</td>\n",
       "      <td>0</td>\n",
       "      <td>0</td>\n",
       "      <td>0</td>\n",
       "      <td>0</td>\n",
       "      <td>0</td>\n",
       "      <td>0</td>\n",
       "      <td>0</td>\n",
       "      <td>0</td>\n",
       "      <td>1</td>\n",
       "      <td>0</td>\n",
       "    </tr>\n",
       "    <tr>\n",
       "      <th>3</th>\n",
       "      <td>1</td>\n",
       "      <td>0</td>\n",
       "      <td>0</td>\n",
       "      <td>0</td>\n",
       "      <td>0</td>\n",
       "      <td>1</td>\n",
       "      <td>0</td>\n",
       "      <td>0</td>\n",
       "      <td>0</td>\n",
       "      <td>0</td>\n",
       "      <td>0</td>\n",
       "      <td>0</td>\n",
       "      <td>0</td>\n",
       "      <td>0</td>\n",
       "      <td>0</td>\n",
       "      <td>0</td>\n",
       "      <td>0</td>\n",
       "      <td>0</td>\n",
       "      <td>1</td>\n",
       "      <td>0</td>\n",
       "    </tr>\n",
       "    <tr>\n",
       "      <th>4</th>\n",
       "      <td>1</td>\n",
       "      <td>0</td>\n",
       "      <td>0</td>\n",
       "      <td>0</td>\n",
       "      <td>0</td>\n",
       "      <td>0</td>\n",
       "      <td>0</td>\n",
       "      <td>0</td>\n",
       "      <td>0</td>\n",
       "      <td>0</td>\n",
       "      <td>0</td>\n",
       "      <td>0</td>\n",
       "      <td>0</td>\n",
       "      <td>0</td>\n",
       "      <td>0</td>\n",
       "      <td>0</td>\n",
       "      <td>0</td>\n",
       "      <td>0</td>\n",
       "      <td>1</td>\n",
       "      <td>0</td>\n",
       "    </tr>\n",
       "    <tr>\n",
       "      <th>...</th>\n",
       "      <td>...</td>\n",
       "      <td>...</td>\n",
       "      <td>...</td>\n",
       "      <td>...</td>\n",
       "      <td>...</td>\n",
       "      <td>...</td>\n",
       "      <td>...</td>\n",
       "      <td>...</td>\n",
       "      <td>...</td>\n",
       "      <td>...</td>\n",
       "      <td>...</td>\n",
       "      <td>...</td>\n",
       "      <td>...</td>\n",
       "      <td>...</td>\n",
       "      <td>...</td>\n",
       "      <td>...</td>\n",
       "      <td>...</td>\n",
       "      <td>...</td>\n",
       "      <td>...</td>\n",
       "      <td>...</td>\n",
       "    </tr>\n",
       "    <tr>\n",
       "      <th>276</th>\n",
       "      <td>0</td>\n",
       "      <td>0</td>\n",
       "      <td>0</td>\n",
       "      <td>0</td>\n",
       "      <td>0</td>\n",
       "      <td>0</td>\n",
       "      <td>0</td>\n",
       "      <td>0</td>\n",
       "      <td>0</td>\n",
       "      <td>0</td>\n",
       "      <td>0</td>\n",
       "      <td>0</td>\n",
       "      <td>0</td>\n",
       "      <td>1</td>\n",
       "      <td>1</td>\n",
       "      <td>0</td>\n",
       "      <td>1</td>\n",
       "      <td>1</td>\n",
       "      <td>0</td>\n",
       "      <td>0</td>\n",
       "    </tr>\n",
       "    <tr>\n",
       "      <th>277</th>\n",
       "      <td>0</td>\n",
       "      <td>0</td>\n",
       "      <td>0</td>\n",
       "      <td>0</td>\n",
       "      <td>0</td>\n",
       "      <td>0</td>\n",
       "      <td>0</td>\n",
       "      <td>0</td>\n",
       "      <td>0</td>\n",
       "      <td>0</td>\n",
       "      <td>0</td>\n",
       "      <td>1</td>\n",
       "      <td>0</td>\n",
       "      <td>0</td>\n",
       "      <td>1</td>\n",
       "      <td>0</td>\n",
       "      <td>0</td>\n",
       "      <td>0</td>\n",
       "      <td>0</td>\n",
       "      <td>0</td>\n",
       "    </tr>\n",
       "    <tr>\n",
       "      <th>278</th>\n",
       "      <td>1</td>\n",
       "      <td>0</td>\n",
       "      <td>0</td>\n",
       "      <td>0</td>\n",
       "      <td>0</td>\n",
       "      <td>1</td>\n",
       "      <td>0</td>\n",
       "      <td>0</td>\n",
       "      <td>0</td>\n",
       "      <td>0</td>\n",
       "      <td>0</td>\n",
       "      <td>0</td>\n",
       "      <td>0</td>\n",
       "      <td>0</td>\n",
       "      <td>0</td>\n",
       "      <td>0</td>\n",
       "      <td>0</td>\n",
       "      <td>0</td>\n",
       "      <td>1</td>\n",
       "      <td>0</td>\n",
       "    </tr>\n",
       "    <tr>\n",
       "      <th>279</th>\n",
       "      <td>0</td>\n",
       "      <td>0</td>\n",
       "      <td>0</td>\n",
       "      <td>0</td>\n",
       "      <td>0</td>\n",
       "      <td>0</td>\n",
       "      <td>1</td>\n",
       "      <td>0</td>\n",
       "      <td>0</td>\n",
       "      <td>0</td>\n",
       "      <td>0</td>\n",
       "      <td>0</td>\n",
       "      <td>0</td>\n",
       "      <td>0</td>\n",
       "      <td>0</td>\n",
       "      <td>0</td>\n",
       "      <td>0</td>\n",
       "      <td>0</td>\n",
       "      <td>1</td>\n",
       "      <td>0</td>\n",
       "    </tr>\n",
       "    <tr>\n",
       "      <th>280</th>\n",
       "      <td>0</td>\n",
       "      <td>0</td>\n",
       "      <td>0</td>\n",
       "      <td>0</td>\n",
       "      <td>0</td>\n",
       "      <td>0</td>\n",
       "      <td>0</td>\n",
       "      <td>0</td>\n",
       "      <td>0</td>\n",
       "      <td>0</td>\n",
       "      <td>0</td>\n",
       "      <td>0</td>\n",
       "      <td>0</td>\n",
       "      <td>0</td>\n",
       "      <td>0</td>\n",
       "      <td>0</td>\n",
       "      <td>0</td>\n",
       "      <td>0</td>\n",
       "      <td>0</td>\n",
       "      <td>0</td>\n",
       "    </tr>\n",
       "  </tbody>\n",
       "</table>\n",
       "<p>281 rows × 20 columns</p>\n",
       "</div>"
      ],
      "text/plain": [
       "     scientist  ai  analyst  sr  software  senior  science  research  \\\n",
       "0            1   0        0   0         0       0        0         0   \n",
       "1            1   0        0   0         0       0        0         0   \n",
       "2            1   0        0   0         0       0        0         0   \n",
       "3            1   0        0   0         0       1        0         0   \n",
       "4            1   0        0   0         0       0        0         0   \n",
       "..         ...  ..      ...  ..       ...     ...      ...       ...   \n",
       "276          0   0        0   0         0       0        0         0   \n",
       "277          0   0        0   0         0       0        0         0   \n",
       "278          1   0        0   0         0       1        0         0   \n",
       "279          0   0        0   0         0       0        1         0   \n",
       "280          0   0        0   0         0       0        0         0   \n",
       "\n",
       "     opportunities  newsenior  nationwide  ml  manager  machine  learning  \\\n",
       "0                0          0           0   0        0        0         0   \n",
       "1                0          0           0   0        0        0         0   \n",
       "2                0          0           0   0        0        0         0   \n",
       "3                0          0           0   0        0        0         0   \n",
       "4                0          0           0   0        0        0         0   \n",
       "..             ...        ...         ...  ..      ...      ...       ...   \n",
       "276              0          0           0   0        0        1         1   \n",
       "277              0          0           0   1        0        0         1   \n",
       "278              0          0           0   0        0        0         0   \n",
       "279              0          0           0   0        0        0         0   \n",
       "280              0          0           0   0        0        0         0   \n",
       "\n",
       "     lead  ii  engineer  data  statistician  \n",
       "0       0   0         0     0             0  \n",
       "1       0   0         0     1             0  \n",
       "2       0   0         0     1             0  \n",
       "3       0   0         0     1             0  \n",
       "4       0   0         0     1             0  \n",
       "..    ...  ..       ...   ...           ...  \n",
       "276     0   1         1     0             0  \n",
       "277     0   0         0     0             0  \n",
       "278     0   0         0     1             0  \n",
       "279     0   0         0     1             0  \n",
       "280     0   0         0     0             0  \n",
       "\n",
       "[281 rows x 20 columns]"
      ]
     },
     "execution_count": 14,
     "metadata": {},
     "output_type": "execute_result"
    }
   ],
   "source": [
    "text_df = pd.DataFrame(document_matrix.toarray(),\n",
    "                  columns=cvec.get_feature_names_out())\n",
    "\n",
    "text_df.transpose().sort_values(0, ascending=False).transpose()"
   ]
  },
  {
   "cell_type": "code",
   "execution_count": 19,
   "id": "02a0d935",
   "metadata": {},
   "outputs": [
    {
     "data": {
      "text/plain": [
       "0.6948412698412698"
      ]
     },
     "execution_count": 19,
     "metadata": {},
     "output_type": "execute_result"
    }
   ],
   "source": [
    "from sklearn.preprocessing import StandardScaler\n",
    "from sklearn.linear_model import LogisticRegression, LogisticRegressionCV\n",
    "from sklearn.model_selection import train_test_split, cross_val_score, GridSearchCV\n",
    "\n",
    "y = salaries['binary']\n",
    "X = text_df\n",
    "\n",
    "X_train, X_test, y_train, y_test = train_test_split(X, y,stratify=y, test_size=0.5, random_state=1)\n",
    "\n",
    "log_model = LogisticRegression(solver='saga')\n",
    "log_model.fit(X_train,y_train)\n",
    "cross_val_score(log_model, X_test, y_test, cv=4).mean()"
   ]
  },
  {
   "cell_type": "markdown",
   "id": "5561678a",
   "metadata": {},
   "source": [
    "The model scores much higher than baseline with a mean cross validation score of ≈ 0.70"
   ]
  },
  {
   "cell_type": "code",
   "execution_count": 34,
   "id": "e6f1c09e",
   "metadata": {},
   "outputs": [
    {
     "data": {
      "text/plain": [
       "array([[0.47000704, 0.52999296],\n",
       "       [0.47000704, 0.52999296],\n",
       "       [0.26087963, 0.73912037],\n",
       "       [0.47000704, 0.52999296],\n",
       "       [0.26087963, 0.73912037],\n",
       "       [0.47000704, 0.52999296],\n",
       "       [0.92542437, 0.07457563],\n",
       "       [0.47000704, 0.52999296],\n",
       "       [0.32899055, 0.67100945]])"
      ]
     },
     "execution_count": 34,
     "metadata": {},
     "output_type": "execute_result"
    }
   ],
   "source": [
    "log_model.predict_proba(X[1:10])"
   ]
  },
  {
   "cell_type": "code",
   "execution_count": 32,
   "id": "f9c706e9",
   "metadata": {},
   "outputs": [
    {
     "data": {
      "text/html": [
       "<div>\n",
       "<style scoped>\n",
       "    .dataframe tbody tr th:only-of-type {\n",
       "        vertical-align: middle;\n",
       "    }\n",
       "\n",
       "    .dataframe tbody tr th {\n",
       "        vertical-align: top;\n",
       "    }\n",
       "\n",
       "    .dataframe thead th {\n",
       "        text-align: right;\n",
       "    }\n",
       "</style>\n",
       "<table border=\"1\" class=\"dataframe\">\n",
       "  <thead>\n",
       "    <tr style=\"text-align: right;\">\n",
       "      <th></th>\n",
       "      <th>Company</th>\n",
       "      <th>Title</th>\n",
       "      <th>Location</th>\n",
       "      <th>Salary</th>\n",
       "      <th>binary</th>\n",
       "    </tr>\n",
       "  </thead>\n",
       "  <tbody>\n",
       "    <tr>\n",
       "      <th>1</th>\n",
       "      <td>InspiHER Tech</td>\n",
       "      <td>DATA SCIENTIST</td>\n",
       "      <td>IL</td>\n",
       "      <td>87500</td>\n",
       "      <td>0</td>\n",
       "    </tr>\n",
       "    <tr>\n",
       "      <th>2</th>\n",
       "      <td>Lightyear Health</td>\n",
       "      <td>Data Scientist</td>\n",
       "      <td>NY</td>\n",
       "      <td>100000</td>\n",
       "      <td>0</td>\n",
       "    </tr>\n",
       "    <tr>\n",
       "      <th>3</th>\n",
       "      <td>CKM Analytix</td>\n",
       "      <td>Senior Data Scientist</td>\n",
       "      <td>NY</td>\n",
       "      <td>140000</td>\n",
       "      <td>1</td>\n",
       "    </tr>\n",
       "    <tr>\n",
       "      <th>4</th>\n",
       "      <td>NYC Careers</td>\n",
       "      <td>ASSOCIATE DATA SCIENTIST</td>\n",
       "      <td>NY</td>\n",
       "      <td>77085</td>\n",
       "      <td>0</td>\n",
       "    </tr>\n",
       "    <tr>\n",
       "      <th>5</th>\n",
       "      <td>Dataworks</td>\n",
       "      <td>Senior Data Scientist</td>\n",
       "      <td>NY</td>\n",
       "      <td>147500</td>\n",
       "      <td>1</td>\n",
       "    </tr>\n",
       "    <tr>\n",
       "      <th>6</th>\n",
       "      <td>NYC Careers</td>\n",
       "      <td>Data Scientist - Policy Analytics</td>\n",
       "      <td>NY</td>\n",
       "      <td>85132</td>\n",
       "      <td>0</td>\n",
       "    </tr>\n",
       "    <tr>\n",
       "      <th>7</th>\n",
       "      <td>NYC Careers</td>\n",
       "      <td>newCity Research Scientist II / Data Analyst, ...</td>\n",
       "      <td>NY</td>\n",
       "      <td>85132</td>\n",
       "      <td>0</td>\n",
       "    </tr>\n",
       "    <tr>\n",
       "      <th>8</th>\n",
       "      <td>Fund For Public Health In New York Inc</td>\n",
       "      <td>Data Scientist</td>\n",
       "      <td>NY</td>\n",
       "      <td>90000</td>\n",
       "      <td>0</td>\n",
       "    </tr>\n",
       "    <tr>\n",
       "      <th>9</th>\n",
       "      <td>Purpose</td>\n",
       "      <td>newData Analytics / Data Science Lead, Impact ...</td>\n",
       "      <td>NY</td>\n",
       "      <td>100000</td>\n",
       "      <td>0</td>\n",
       "    </tr>\n",
       "  </tbody>\n",
       "</table>\n",
       "</div>"
      ],
      "text/plain": [
       "                                  Company  \\\n",
       "1                           InspiHER Tech   \n",
       "2                        Lightyear Health   \n",
       "3                            CKM Analytix   \n",
       "4                             NYC Careers   \n",
       "5                               Dataworks   \n",
       "6                             NYC Careers   \n",
       "7                             NYC Careers   \n",
       "8  Fund For Public Health In New York Inc   \n",
       "9                                 Purpose   \n",
       "\n",
       "                                               Title Location  Salary  binary  \n",
       "1                                     DATA SCIENTIST       IL   87500       0  \n",
       "2                                     Data Scientist       NY  100000       0  \n",
       "3                              Senior Data Scientist       NY  140000       1  \n",
       "4                           ASSOCIATE DATA SCIENTIST       NY   77085       0  \n",
       "5                              Senior Data Scientist       NY  147500       1  \n",
       "6                  Data Scientist - Policy Analytics       NY   85132       0  \n",
       "7  newCity Research Scientist II / Data Analyst, ...       NY   85132       0  \n",
       "8                                     Data Scientist       NY   90000       0  \n",
       "9  newData Analytics / Data Science Lead, Impact ...       NY  100000       0  "
      ]
     },
     "execution_count": 32,
     "metadata": {},
     "output_type": "execute_result"
    }
   ],
   "source": [
    "salaries[1:10]"
   ]
  },
  {
   "cell_type": "markdown",
   "id": "6263881e",
   "metadata": {},
   "source": [
    "An inital look at the probabilites in the model's predictions suggests that the word \"senior\" makes the model highly confident that the salary is high, and the world \"analyst\" appears to have the inverse effect. \n",
    "\n",
    "Extracting model coefficients confirms this hypothesis. "
   ]
  },
  {
   "cell_type": "code",
   "execution_count": 35,
   "id": "ac53589e",
   "metadata": {},
   "outputs": [
    {
     "data": {
      "text/html": [
       "<div>\n",
       "<style scoped>\n",
       "    .dataframe tbody tr th:only-of-type {\n",
       "        vertical-align: middle;\n",
       "    }\n",
       "\n",
       "    .dataframe tbody tr th {\n",
       "        vertical-align: top;\n",
       "    }\n",
       "\n",
       "    .dataframe thead th {\n",
       "        text-align: right;\n",
       "    }\n",
       "</style>\n",
       "<table border=\"1\" class=\"dataframe\">\n",
       "  <thead>\n",
       "    <tr style=\"text-align: right;\">\n",
       "      <th></th>\n",
       "      <th>coefs</th>\n",
       "      <th>words</th>\n",
       "    </tr>\n",
       "  </thead>\n",
       "  <tbody>\n",
       "    <tr>\n",
       "      <th>1</th>\n",
       "      <td>-2.031257</td>\n",
       "      <td>analyst</td>\n",
       "    </tr>\n",
       "    <tr>\n",
       "      <th>5</th>\n",
       "      <td>1.179445</td>\n",
       "      <td>lead</td>\n",
       "    </tr>\n",
       "    <tr>\n",
       "      <th>6</th>\n",
       "      <td>1.086552</td>\n",
       "      <td>learning</td>\n",
       "    </tr>\n",
       "    <tr>\n",
       "      <th>13</th>\n",
       "      <td>-0.993648</td>\n",
       "      <td>research</td>\n",
       "    </tr>\n",
       "    <tr>\n",
       "      <th>16</th>\n",
       "      <td>0.921286</td>\n",
       "      <td>senior</td>\n",
       "    </tr>\n",
       "    <tr>\n",
       "      <th>18</th>\n",
       "      <td>0.823026</td>\n",
       "      <td>sr</td>\n",
       "    </tr>\n",
       "    <tr>\n",
       "      <th>17</th>\n",
       "      <td>-0.668121</td>\n",
       "      <td>software</td>\n",
       "    </tr>\n",
       "  </tbody>\n",
       "</table>\n",
       "</div>"
      ],
      "text/plain": [
       "       coefs     words\n",
       "1  -2.031257   analyst\n",
       "5   1.179445      lead\n",
       "6   1.086552  learning\n",
       "13 -0.993648  research\n",
       "16  0.921286    senior\n",
       "18  0.823026        sr\n",
       "17 -0.668121  software"
      ]
     },
     "execution_count": 35,
     "metadata": {},
     "output_type": "execute_result"
    }
   ],
   "source": [
    "importance_nlp = pd.DataFrame(log_model.coef_[0], columns=['coefs'])\n",
    "importance_nlp['words'] = X.columns\n",
    "importance_nlp.reindex(importance_nlp.coefs.abs().sort_values(ascending=False).index).head(7)"
   ]
  },
  {
   "cell_type": "markdown",
   "id": "8f248e87",
   "metadata": {},
   "source": [
    "Using NLP I found that the words \"analyst\" and \"research\" in a job title were the most likely to indicate a low salary, whereas \"lead\",\"senior\", and \"machine learning\" were most likely to indicate a High Salary. These findings are understandable, as analyst and research were terms that appeared in more entry level jobs with lower pay, and a lead/senior at a company would naturally expect to be paid a higher salary."
   ]
  }
 ],
 "metadata": {
  "kernelspec": {
   "display_name": "Python 3 (ipykernel)",
   "language": "python",
   "name": "python3"
  },
  "language_info": {
   "codemirror_mode": {
    "name": "ipython",
    "version": 3
   },
   "file_extension": ".py",
   "mimetype": "text/x-python",
   "name": "python",
   "nbconvert_exporter": "python",
   "pygments_lexer": "ipython3",
   "version": "3.8.12"
  }
 },
 "nbformat": 4,
 "nbformat_minor": 5
}
